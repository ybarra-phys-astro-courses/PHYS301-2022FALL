{
  "nbformat": 4,
  "nbformat_minor": 0,
  "metadata": {
    "kernelspec": {
      "display_name": "Python 3 (system-wide)",
      "language": "python",
      "metadata": {
        "cocalc": {
          "description": "Python 3 programming language",
          "priority": 100,
          "url": "https://www.python.org/"
        }
      },
      "name": "python3",
      "resource_dir": "/ext/jupyter/kernels/python3"
    },
    "language_info": {
      "codemirror_mode": {
        "name": "ipython",
        "version": 3
      },
      "file_extension": ".py",
      "mimetype": "text/x-python",
      "name": "python",
      "nbconvert_exporter": "python",
      "pygments_lexer": "ipython3",
      "version": "3.6.9"
    },
    "colab": {
      "name": "Jupyter-Tutorial-3.ipynb",
      "provenance": []
    }
  },
  "cells": [
    {
      "cell_type": "markdown",
      "metadata": {
        "collapsed": false,
        "id": "dlsB3Upiz-WM"
      },
      "source": [
        "# Jupyter - Python Tutorial 2\n",
        "A computational activity developed by Jason E. Ybarra, Ph.D.\n",
        "\n",
        "**Learning Objective**: Learn to use and maniupate NumPy arrays \n",
        "\n",
        "**Sub-goals for this part**: \n",
        "- Create various NumPy arrays\n",
        "- Be able to use the attributes ndim, shape, size \n",
        "- Be able to use methods .min(), .max(), .mean(), .std()\n",
        "- Produce arrays of evenly spaced sequential numbers\n",
        "\n",
        "---\n"
      ]
    },
    {
      "cell_type": "markdown",
      "metadata": {
        "collapsed": false,
        "id": "7G_8USv5z-WT"
      },
      "source": [
        "## A. Loading NumPy\n",
        "\n",
        "The Numerical Python or *NumPy* module needs to be imported to be used. The most common and suggested way is to import and alias it as ``np`` \n"
      ]
    },
    {
      "cell_type": "code",
      "metadata": {
        "id": "XfbqRWyCz-WU"
      },
      "source": [
        "import numpy as np"
      ],
      "execution_count": null,
      "outputs": []
    },
    {
      "cell_type": "markdown",
      "metadata": {
        "collapsed": false,
        "id": "zPMROjukz-WW"
      },
      "source": [
        "The are many tutorials out there for using NumPy (and Python in general) "
      ]
    },
    {
      "cell_type": "markdown",
      "metadata": {
        "collapsed": false,
        "id": "pX9f4ykUz-WW"
      },
      "source": [
        "## B. NumPy Array Basics\n",
        "\n",
        "We will many types of arrays. The first will be a one-dimensional array named of random numbers from 0 to 50 of length 10. We will name this array **arr1**"
      ]
    },
    {
      "cell_type": "code",
      "metadata": {
        "id": "euK8z3w3z-WX"
      },
      "source": [
        "arr1 = np.random.randint(50,size=10)"
      ],
      "execution_count": null,
      "outputs": []
    },
    {
      "cell_type": "markdown",
      "metadata": {
        "collapsed": false,
        "id": "UM_Mj0Jcz-WY"
      },
      "source": [
        "Now look at the contents of this array"
      ]
    },
    {
      "cell_type": "code",
      "metadata": {
        "id": "NNWXJx2mz-Wa"
      },
      "source": [
        "arr1"
      ],
      "execution_count": null,
      "outputs": []
    },
    {
      "cell_type": "markdown",
      "metadata": {
        "collapsed": false,
        "id": "JrzZF7KWz-Wb"
      },
      "source": [
        "Now suppose you wanted to know the largest number in this array. There are two ways to do this. First is use the ```np.max()``` function"
      ]
    },
    {
      "cell_type": "code",
      "metadata": {
        "id": "02Dr0sU3z-Wc"
      },
      "source": [
        "np.max(arr1)"
      ],
      "execution_count": null,
      "outputs": []
    },
    {
      "cell_type": "markdown",
      "metadata": {
        "collapsed": false,
        "id": "gAqptCknz-Wc"
      },
      "source": [
        "You can also use the ```.max()``` method by appending it to the end of the array "
      ]
    },
    {
      "cell_type": "code",
      "metadata": {
        "id": "auR337Dez-Wd"
      },
      "source": [
        "arr1.max()"
      ],
      "execution_count": null,
      "outputs": []
    },
    {
      "cell_type": "markdown",
      "metadata": {
        "collapsed": false,
        "id": "nzqT97zjz-Wd"
      },
      "source": [
        "Similarily for the smallest value, use ```np.min()``` function"
      ]
    },
    {
      "cell_type": "code",
      "metadata": {
        "id": "LKHc1PmIz-We"
      },
      "source": [
        "np.min(arr1)"
      ],
      "execution_count": null,
      "outputs": []
    },
    {
      "cell_type": "markdown",
      "metadata": {
        "collapsed": false,
        "id": "eSEJa5hsz-We"
      },
      "source": [
        "### Attributes ###\n",
        "\n",
        "NumPy arrays have attributes that can be accessed by appending the attribute name to the end of the array name. Some of the common ones are\n",
        "\n",
        "- ```ndim``` (number of dimensions)\n",
        "- ```shape``` (number of elements in each dimension)\n",
        "- ```size``` (total number of elements in the array)"
      ]
    },
    {
      "cell_type": "code",
      "metadata": {
        "id": "r6K7vYWBz-Wf"
      },
      "source": [
        "arr1.size"
      ],
      "execution_count": null,
      "outputs": []
    },
    {
      "cell_type": "markdown",
      "metadata": {
        "collapsed": false,
        "id": "B15CH8Rxz-Wf"
      },
      "source": [
        "### Methods ###\n",
        "\n",
        "There are other operations you can do on a NumPy array. "
      ]
    },
    {
      "cell_type": "markdown",
      "metadata": {
        "collapsed": false,
        "id": "hu_fMPXKz-Wf"
      },
      "source": [
        "You can return a sorted copy of the array by using ```np.sort```"
      ]
    },
    {
      "cell_type": "code",
      "metadata": {
        "id": "E67i2uSqz-Wh"
      },
      "source": [
        "np.sort(arr1)"
      ],
      "execution_count": null,
      "outputs": []
    },
    {
      "cell_type": "markdown",
      "metadata": {
        "collapsed": false,
        "id": "x38ttSN_z-Wh"
      },
      "source": [
        "Note that this just returns a sorted *copy*; it does not sort that actual array. Check the array"
      ]
    },
    {
      "cell_type": "code",
      "metadata": {
        "id": "wSMuwZxoz-Wi"
      },
      "source": [
        "arr1"
      ],
      "execution_count": null,
      "outputs": []
    },
    {
      "cell_type": "markdown",
      "metadata": {
        "collapsed": false,
        "id": "N0193cGAz-Wi"
      },
      "source": [
        "It is possible to sort the array using the sort *method* (i.e. ```arr1.sort()```). This action, however, **will overwrite** your array. I don't recommend it."
      ]
    },
    {
      "cell_type": "markdown",
      "metadata": {
        "collapsed": false,
        "id": "wNZhg3lAz-Wi"
      },
      "source": [
        "### Indices ###\n",
        "\n",
        "The elements of an array by their index. In Python, the first index is 0. So to access the first element of the array you can use"
      ]
    },
    {
      "cell_type": "code",
      "metadata": {
        "id": "MA1R5hR7z-Wj"
      },
      "source": [
        "arr1[0]"
      ],
      "execution_count": null,
      "outputs": []
    },
    {
      "cell_type": "markdown",
      "metadata": {
        "collapsed": false,
        "id": "qvST3iYkz-Wj"
      },
      "source": [
        "You can access the first 3 elements using"
      ]
    },
    {
      "cell_type": "code",
      "metadata": {
        "id": "A4ZEAIboz-Wk"
      },
      "source": [
        "arr1[:3]"
      ],
      "execution_count": null,
      "outputs": []
    },
    {
      "cell_type": "markdown",
      "metadata": {
        "collapsed": false,
        "id": "zhPFy2i4z-Wk"
      },
      "source": [
        "A trick to access all the elements, but in the reverse order is to use ```[::-1]```"
      ]
    },
    {
      "cell_type": "code",
      "metadata": {
        "id": "Wjya36R0z-Wk"
      },
      "source": [
        "arr1[::-1]"
      ],
      "execution_count": null,
      "outputs": []
    },
    {
      "cell_type": "markdown",
      "metadata": {
        "collapsed": false,
        "id": "vDV7a0V2z-Wl"
      },
      "source": [
        "To make a copy of the array but reverse order "
      ]
    },
    {
      "cell_type": "code",
      "metadata": {
        "id": "RdJeN9Ytz-Wl"
      },
      "source": [
        "arr1rev = arr1[::-1].copy()"
      ],
      "execution_count": null,
      "outputs": []
    },
    {
      "cell_type": "code",
      "metadata": {
        "id": "jyRiohatz-Wm"
      },
      "source": [
        "arr1rev"
      ],
      "execution_count": null,
      "outputs": []
    },
    {
      "cell_type": "markdown",
      "metadata": {
        "collapsed": false,
        "id": "KqKZ2rtGz-Wm"
      },
      "source": [
        "## C. More fun ##\n",
        "\n",
        "Let's make a new array with 100 elements, this time randomly selecting from a Gaussian (Normal) distribution with $\\mu = 3$ and $\\sigma = 0.5$"
      ]
    },
    {
      "cell_type": "code",
      "metadata": {
        "id": "kJE3OQe4z-Wm"
      },
      "source": [
        "arr2 = np.random.normal(3,0.5,100)"
      ],
      "execution_count": null,
      "outputs": []
    },
    {
      "cell_type": "markdown",
      "metadata": {
        "collapsed": false,
        "id": "yGHjFC-8z-Wn"
      },
      "source": [
        "We can determine the mean value of the array by using the ```.mean()``` method. It should be close to 3."
      ]
    },
    {
      "cell_type": "code",
      "metadata": {
        "id": "pxNozxVkz-Wn"
      },
      "source": [
        "arr2.mean()"
      ],
      "execution_count": null,
      "outputs": []
    },
    {
      "cell_type": "markdown",
      "metadata": {
        "collapsed": false,
        "id": "sVyYCerQz-Wn"
      },
      "source": [
        "The sample standard deviation is obtained using the ```.std()``` method"
      ]
    },
    {
      "cell_type": "code",
      "metadata": {
        "id": "06MztiS4z-Wo"
      },
      "source": [
        "arr2.std()"
      ],
      "execution_count": null,
      "outputs": []
    },
    {
      "cell_type": "markdown",
      "metadata": {
        "collapsed": false,
        "id": "iteytXclz-Wo"
      },
      "source": [
        "You can sum the elements in the array using"
      ]
    },
    {
      "cell_type": "code",
      "metadata": {
        "id": "02NzkHqMz-Wo"
      },
      "source": [
        "arr2.sum()"
      ],
      "execution_count": null,
      "outputs": []
    },
    {
      "cell_type": "markdown",
      "metadata": {
        "collapsed": false,
        "id": "5oOOzMtYz-Wp"
      },
      "source": [
        "### Arrays of Evenly Spaced Numbers ### "
      ]
    },
    {
      "cell_type": "markdown",
      "metadata": {
        "collapsed": false,
        "id": "i0RFOUziz-Wp"
      },
      "source": [
        "You can use the function ```np.arange()``` to create arrays of evenly spaced values with a given step size. If you leave of the step step argument, the function defaults to a step size of one. Some examples, to create an array of integer elements from 0 to 9 use"
      ]
    },
    {
      "cell_type": "code",
      "metadata": {
        "id": "Tk9DECJUz-Wp"
      },
      "source": [
        "arr3 = np.arange(10)"
      ],
      "execution_count": null,
      "outputs": []
    },
    {
      "cell_type": "code",
      "metadata": {
        "id": "d6melOvjz-Wq"
      },
      "source": [
        "arr3"
      ],
      "execution_count": null,
      "outputs": []
    },
    {
      "cell_type": "markdown",
      "metadata": {
        "collapsed": false,
        "id": "kClhOVggz-Wq"
      },
      "source": [
        "Another method, is to create an array with evenly spaced interval defining the number of samples, instead of a step size. For example, if I wanted an array of numbers from 2 to 7 with 10 elements in the array, I would use"
      ]
    },
    {
      "cell_type": "code",
      "metadata": {
        "id": "wMODq2MRz-Wq"
      },
      "source": [
        "arr4 = np.linspace(2,7,num=10)"
      ],
      "execution_count": null,
      "outputs": []
    },
    {
      "cell_type": "code",
      "metadata": {
        "id": "HAxwmt8Pz-Wq"
      },
      "source": [
        "arr4"
      ],
      "execution_count": null,
      "outputs": []
    },
    {
      "cell_type": "markdown",
      "metadata": {
        "collapsed": false,
        "id": "xVoAcjavz-Wr"
      },
      "source": [
        "Specal Note: ```np.linspace``` is preferred to ```np.arange``` when using non-integer step sizes."
      ]
    },
    {
      "cell_type": "markdown",
      "metadata": {
        "collapsed": false,
        "id": "7iRaNzRpz-Wr"
      },
      "source": [
        "### Arrays of zeros ###\n",
        "\n",
        "Sometimes you will want to make an array of a certain size but fill it initially with zeros."
      ]
    },
    {
      "cell_type": "code",
      "metadata": {
        "id": "hqC6d4HEz-Wr"
      },
      "source": [
        "arr5 = np.zeros(15)"
      ],
      "execution_count": null,
      "outputs": []
    },
    {
      "cell_type": "code",
      "metadata": {
        "id": "gkHcO5mcz-Wr"
      },
      "source": [
        "arr5"
      ],
      "execution_count": null,
      "outputs": []
    }
  ]
}