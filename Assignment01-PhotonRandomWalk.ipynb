{
 "cells": [
  {
   "cell_type": "code",
   "execution_count": 2,
   "id": "290f87be-5611-4be2-aa4e-45f9f4eca593",
   "metadata": {},
   "outputs": [],
   "source": [
    "import numpy as np\n",
    "import matplotlib.pyplot as plt"
   ]
  },
  {
   "cell_type": "markdown",
   "id": "b1229adc-0ffd-4fb2-8836-ee1301aeef37",
   "metadata": {},
   "source": [
    "## Random Walk Simulation Assignment\n",
    "\n",
    "Goal of this assignment is to simulate photons moving in the $z$-direction through an atmosphere from $z=0$ to $z=1$. \n",
    "\n",
    "- This atmosphere shoould be divided into $N_{l} \\ge 100$ layers. In each layer $\\Delta z = \\frac{1}{N_{l}}$ let the probability of absorption be $P[\\Delta z] = \\frac{1}{N_{l}}$. Use the `np.random.uniform()` function.  \n",
    "- The direction of emission is random, where the probability of the emitted photon moving in the positize ($+z$) direction is the same as moving in the negative ($-z$) direction. \n",
    "- Eventually the photon either gets back to $z=0$ or moves above $z=1$, and the simulation for that photon stops. \n",
    "- Do this for about 10,000 photons and track how many made it $z=1$ and how many went back to $z=0$."
   ]
  },
  {
   "cell_type": "code",
   "execution_count": null,
   "id": "40c6b6e8-2b37-4b11-a6f1-adc4757876ad",
   "metadata": {},
   "outputs": [],
   "source": []
  }
 ],
 "metadata": {
  "kernelspec": {
   "display_name": "Python 3 (ipykernel)",
   "language": "python",
   "name": "python3"
  },
  "language_info": {
   "codemirror_mode": {
    "name": "ipython",
    "version": 3
   },
   "file_extension": ".py",
   "mimetype": "text/x-python",
   "name": "python",
   "nbconvert_exporter": "python",
   "pygments_lexer": "ipython3",
   "version": "3.10.6"
  }
 },
 "nbformat": 4,
 "nbformat_minor": 5
}
