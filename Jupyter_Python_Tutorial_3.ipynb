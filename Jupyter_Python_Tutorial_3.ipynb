{
 "cells": [
  {
   "cell_type": "markdown",
   "id": "fa9f16b7-5648-4b8f-af30-c3b9103a95ab",
   "metadata": {
    "id": "rYJeaRMLzJsa"
   },
   "source": [
    "# Jupyter - Python Tutorial\n",
    "A computational activity developed by Jason E. Ybarra\n",
    "\n",
    "**Learning Objective**: Learn how to use Python in a Jupyter notebook environment to do basic array manipulations and calculations.\n",
    "\n",
    "**Sub-goals for this part**: \n",
    "- if-then statements\n",
    "- loops\n",
    "---\n"
   ]
  },
  {
   "cell_type": "markdown",
   "id": "c7d81976-9c6d-412f-89eb-d4db4c8bdfa3",
   "metadata": {},
   "source": [
    "## If-Then Statements\n",
    "\n",
    "An If-Then statement probes a specified condition, and if the condition is TRUE, then executes a block of code. For example.\n"
   ]
  },
  {
   "cell_type": "code",
   "execution_count": 1,
   "id": "9bc8181b-1194-4ac0-81f6-b92cd2e75c07",
   "metadata": {},
   "outputs": [],
   "source": [
    "a = 5\n",
    "b = 7\n",
    "if (a > b):\n",
    "    print(\"a is greater than b\")"
   ]
  },
  {
   "cell_type": "markdown",
   "id": "8aaf299f-4fd3-4f14-8005-145f507e28f6",
   "metadata": {},
   "source": [
    "In this example, only if a is greater than b will anything happen. We can also add an `else` part that executes alternate code if the condition is FALSE. "
   ]
  },
  {
   "cell_type": "code",
   "execution_count": 3,
   "id": "05ab3b37-df1c-41e5-abb8-4536660cf7fc",
   "metadata": {
    "tags": []
   },
   "outputs": [
    {
     "name": "stdout",
     "output_type": "stream",
     "text": [
      "a is NOT greater than b\n"
     ]
    }
   ],
   "source": [
    "if (a > b):\n",
    "    print(\"a is greater than b\")\n",
    "else:\n",
    "    print(\"a is NOT greater than b\")"
   ]
  },
  {
   "cell_type": "markdown",
   "id": "89bb48e7-ceea-4151-94b9-15ad70f68c07",
   "metadata": {},
   "source": [
    "Note that the blocks of code that are executed are indented. "
   ]
  },
  {
   "cell_type": "markdown",
   "id": "8fcb0f4d-1f08-48e6-b4a1-5ff33d431f58",
   "metadata": {},
   "source": [
    "### Problem:\n",
    "\n",
    "Create a tip calculator function that has an inputs of the restaurant bill and percentage to us like in the first tutorial, but add code that will gently admonish the user if they inputed a percentage less than 18\\%.  (This should not take more than 5 minutes)"
   ]
  },
  {
   "cell_type": "markdown",
   "id": "837b0b7c-192b-499e-82bb-3f625d99f981",
   "metadata": {},
   "source": [
    "## FOR Loops\n",
    "\n",
    "Computers are great at repetition, and FOR loops are one way to implement this. For loops in Python are a little different than in other programming languages. Instead of increasing an integer by some increment until it satisfies a condition, in Python the code iterates through a sequence. Thus\n",
    "```\n",
    "for iterator_var in sequence:\n",
    "    statements(s)\n",
    "```\n",
    "\n",
    "For example, `range(10)` produces a sequence of integers from 0 to 9. Then"
   ]
  },
  {
   "cell_type": "code",
   "execution_count": 3,
   "id": "11c4b621-d704-4147-aeea-5a9d4e329039",
   "metadata": {},
   "outputs": [
    {
     "name": "stdout",
     "output_type": "stream",
     "text": [
      "0\n",
      "1\n",
      "2\n",
      "3\n",
      "4\n",
      "5\n",
      "6\n",
      "7\n",
      "8\n",
      "9\n"
     ]
    }
   ],
   "source": [
    "for i in range(10):\n",
    "    print(i)"
   ]
  },
  {
   "cell_type": "markdown",
   "id": "37c5d52d-1612-41ce-bc91-43f7d293f543",
   "metadata": {},
   "source": [
    "Consider the series expansion of the inverse tangent function\n",
    "\n",
    "$$ \\arctan[x] = 1 - \\frac{x^{3}}{3} + \\frac{x^{5}}{5} - \\frac{x^{7}}{7} + ... = \n",
    "\\sum_{n=0}^{\\infty} \\frac{(-1)^{n}x^{2n+1}}{2n+1} ;\\qquad |x| \\leq 1\n",
    "$$\n",
    "\n",
    "We know than $\\tan[\\pi/4] = 1$, and thus by setting $x=1$, we can use a FOR loop to estimate $\\pi$ (This is known as the Leibnitz formula for $\\pi$)"
   ]
  },
  {
   "cell_type": "code",
   "execution_count": null,
   "id": "96778616-5356-4cff-84da-e93262ddd050",
   "metadata": {},
   "outputs": [],
   "source": []
  }
 ],
 "metadata": {
  "kernelspec": {
   "display_name": "Python 3 (ipykernel)",
   "language": "python",
   "name": "python3"
  },
  "language_info": {
   "codemirror_mode": {
    "name": "ipython",
    "version": 3
   },
   "file_extension": ".py",
   "mimetype": "text/x-python",
   "name": "python",
   "nbconvert_exporter": "python",
   "pygments_lexer": "ipython3",
   "version": "3.8.9"
  }
 },
 "nbformat": 4,
 "nbformat_minor": 5
}
