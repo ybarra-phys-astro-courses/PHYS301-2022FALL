{
 "cells": [
  {
   "cell_type": "markdown",
   "metadata": {
    "id": "rYJeaRMLzJsa"
   },
   "source": [
    "# Jupyter - Python Tutorial\n",
    "A computational activity developed by Jason E. Ybarra\n",
    "\n",
    "**Learning Objective**: Learn how to use Python in a Jupyter notebook environment to do basic array manipulations and calculations.\n",
    "\n",
    "**Sub-goals for this part**: \n",
    "- Learn to use the *Jupyter* Notebook Python environment.\n",
    "- Review programming basics of variables, data types, and operators \n",
    "---\n"
   ]
  },
  {
   "cell_type": "markdown",
   "metadata": {
    "id": "_uU51R-dzJsd"
   },
   "source": [
    "## A. Using a Jupyter Notebook\n",
    "\n",
    "The Jupyter Notebook environment is a browser-based tool for developing, documenting, and running code. A notebook contains a series of cells, which can either contain descriptive text \\( \n",
    "[Markdown](http://jupyter-notebook.readthedocs.io/en/stable/examples/Notebook/Working%20With%20Markdown%20Cells.html) \\) or code. You can use the arrow keys to move from one cell to the next, or you can select a cell with the mouse.\n",
    "\n",
    "### Code Cells\n",
    "Within a code cell, code can be written, edited, or executed. To execute the code in a cell use the key combination <kbd>Shift</kbd> + <kbd>Enter</kbd>. (You can also use the Run button in the toolbar)\n",
    "\n",
    "*1*. In the cell below is Python code for loading in the NumPy module functions. Select the cell and execute the code.\n"
   ]
  },
  {
   "cell_type": "code",
   "execution_count": null,
   "metadata": {
    "id": "V0WOje21zJsg"
   },
   "outputs": [],
   "source": [
    "import numpy as np  #Imports NumPy functions"
   ]
  },
  {
   "cell_type": "markdown",
   "metadata": {
    "id": "6FL4RjqXzJsh"
   },
   "source": [
    "Notice that after the code begins executing, the next cell is highlighted. When execution is complete a number will show up in the brackets before the code (e.g. [1]).\n",
    "\n",
    "### Markdown Cells\n",
    "Markdown cells can be edited by double-clicking the mouse on the cell. In Markdown, single asterisks surrounding text will *italicize* it, and double asterisks will make it **bold**. To render the Markdown code use <kbd>Shift</kbd> + <kbd>Enter</kbd>.\n",
    "\n",
    "*2*. For the following cell, fix the Markdown code and render it"
   ]
  },
  {
   "cell_type": "markdown",
   "metadata": {
    "id": "vVA2Y-ayzJsi"
   },
   "source": [
    "**This is italicized text**\n",
    "\n",
    "*This text is bold*"
   ]
  },
  {
   "cell_type": "markdown",
   "metadata": {
    "id": "Vg5YNXGCzJsi"
   },
   "source": [
    "You can write equations in Markdown using LaTeX commands. For example, \n",
    "the inline equation\n",
    "\\$ x^{2} \\$\n",
    "becomes\n",
    "$ x^{2} $\n",
    "and the display math mode equation\n",
    "```\n",
    "$$ f(x) = \\sqrt{\\frac{\\pi}{2}} $$\n",
    "```\n",
    "becomes\n",
    "$$ f(x) = \\sqrt{\\frac{\\pi}{2}} .$$\n",
    "Trig functions can written using blackslashes \n",
    "(e.g. \\$ \\\\sin x \\$ $\\rightarrow \\sin x$).\n",
    "\n",
    "*3*. In the cell below, using $\\LaTeX$ commands to write the [Pythagorean trigonometric identity](https://en.wikipedia.org/wiki/Pythagorean_trigonometric_identity) and the quadratric equation."
   ]
  },
  {
   "cell_type": "markdown",
   "metadata": {
    "id": "j9EvmhJYzJsj"
   },
   "source": [
    "**Pythagorean trigonometric identity**\n",
    "\n",
    "\n",
    "---"
   ]
  },
  {
   "cell_type": "code",
   "execution_count": null,
   "metadata": {
    "id": "8FHCMWRF5OGK"
   },
   "outputs": [],
   "source": [
    "#Insert LaTeX code here"
   ]
  },
  {
   "cell_type": "markdown",
   "metadata": {
    "id": "xjK9GvHP6NDY"
   },
   "source": [
    "## B. Programming Basics\n",
    "\n",
    "### Data Types\n",
    "\n",
    "Data in programming is typically associated with a type. This is similar to sets in math. Common types are\n",
    "- characters (**char**)\n",
    "- integers (**int**)\n",
    "- floating-point numbers (**float**)\n",
    "\n",
    "Typically characters are strung together into **strings** of text.\n",
    "\n",
    "### Variables\n",
    "\n",
    "Names to refer to locations in a computers memory which store data in a program. In Python you don't have to define the data type of the variable, although sometimes you will want to.\n",
    "\n"
   ]
  },
  {
   "cell_type": "code",
   "execution_count": 10,
   "metadata": {
    "id": "l7iN4tPDNymV"
   },
   "outputs": [],
   "source": [
    "a = \"Hi, I'm a string of text\"\n",
    "b = 56\n",
    "c = 3.14\n",
    "d = 6.62607015E-34"
   ]
  },
  {
   "cell_type": "markdown",
   "metadata": {
    "id": "35w7iJZhSd0D"
   },
   "source": [
    "Almost any string of letters can be a variable name except for the following list of reserved words\n",
    "\n",
    "|  |  |  | | | |\n",
    "| :----: | :----: | :----: | :----: | :----: | :----: | \n",
    "| and\t   | exec\t  | not    | assert | finally| or     |\n",
    "| break  | for    | pass   | class  | from   | print  |\n",
    "|continue| global | raise  | def    | if     | return |\n",
    "|del     | import |try     | elif   | in     | while  |\n",
    "|else    | is     | with   | except | lambda | yield  |\n",
    "\n",
    "\n"
   ]
  },
  {
   "cell_type": "markdown",
   "metadata": {
    "id": "2vS-vN_NOY_F"
   },
   "source": [
    "We can use the in-built function type() to determine the data type of a variable."
   ]
  },
  {
   "cell_type": "code",
   "execution_count": null,
   "metadata": {
    "id": "Lw8vkiFPN_TP"
   },
   "outputs": [],
   "source": [
    "print(type(a))\n",
    "print(type(b))\n",
    "print(type(c))\n",
    "print(type(d))"
   ]
  },
  {
   "cell_type": "code",
   "execution_count": 12,
   "metadata": {
    "id": "HNWInwliPrKB"
   },
   "outputs": [],
   "source": [
    "e = 22\n",
    "f = float(22)\n",
    "g = 22.\n",
    "h = int(22.)"
   ]
  },
  {
   "cell_type": "markdown",
   "metadata": {
    "id": "faMxyzkaP5IK"
   },
   "source": [
    "Determine the types for the variables e through h"
   ]
  },
  {
   "cell_type": "code",
   "execution_count": null,
   "metadata": {
    "id": "iOtJx-ldP26F"
   },
   "outputs": [],
   "source": [
    "#insert code here"
   ]
  },
  {
   "cell_type": "markdown",
   "metadata": {
    "id": "BRRoADciOzbW"
   },
   "source": [
    "The `print()` function displays the value of the argument"
   ]
  },
  {
   "cell_type": "code",
   "execution_count": null,
   "metadata": {
    "id": "QUhjqQ6DPDqW"
   },
   "outputs": [],
   "source": [
    "print(a)"
   ]
  },
  {
   "cell_type": "markdown",
   "metadata": {
    "id": "AaIVC1UzR6mM"
   },
   "source": [
    "and can be used to display formatted text."
   ]
  },
  {
   "cell_type": "code",
   "execution_count": null,
   "metadata": {
    "id": "m5CmZK07Qcz7"
   },
   "outputs": [],
   "source": [
    "print(\"The value of d is {0:.2e} and c is {1:.3f}\".format(d,c))"
   ]
  },
  {
   "cell_type": "markdown",
   "metadata": {
    "id": "J4DJ3_gtQqbN"
   },
   "source": [
    "In the code `{0:.2e}` the `0` references the first argument in `format()`. The `.2e` refers to scientific notation with 2 decimal places. "
   ]
  },
  {
   "cell_type": "markdown",
   "metadata": {
    "id": "6UT44KnOX-Ec"
   },
   "source": [
    "#### Operators\n",
    "Arithmetic operators are used for simple calculations. In Python we have\n",
    "\n",
    "| operator   | description |\n",
    "| :-------:  | ----------- |\n",
    "| +  | addition |\n",
    "| -  | subtraction |\n",
    "| *  | multiplication |\n",
    "| /  | division | \n",
    "| %  | remainder in integer division |\n",
    "| ** | power |"
   ]
  },
  {
   "cell_type": "code",
   "execution_count": null,
   "metadata": {
    "id": "5tri0xIxZlSx"
   },
   "outputs": [],
   "source": [
    "a = 5\n",
    "b = 2\n",
    "print(\"a + b = {}\".format(a+b))\n",
    "print(\"a - b = {}\".format(a-b))\n",
    "print(\"a % b = {}\".format(a%b))\n",
    "print(\"a ** b = {}\".format(a**b))"
   ]
  },
  {
   "cell_type": "markdown",
   "metadata": {
    "id": "NrI4fsX1a9rd"
   },
   "source": [
    "#### Relational Operators\n",
    "\n",
    "These operators compare two variables and determine if the criteria are met. Output is either True or False.\n",
    "\n",
    "|operator | description |\n",
    "| :---: | :---------------------------------------------- |\n",
    "| ==\t| Checks if the values of two operands are equal |\n",
    "| !=\t| Checks if the values of two operands are not equal |\n",
    "| >   |\tChecks if the value of left operand is greater than the value of right operand |\n",
    "| <   |\tChecks if the value of left operand is less than the value of right operand |\n",
    "| >=\t| Checks if the value of left operand is greater than or equal to the value of right operand |\n",
    "| <= |\tChecks if the value of left operand is less than or equal to the value of right operand |"
   ]
  },
  {
   "cell_type": "code",
   "execution_count": null,
   "metadata": {
    "id": "PwKnSxJJcGp6"
   },
   "outputs": [],
   "source": [
    "a == b"
   ]
  },
  {
   "cell_type": "code",
   "execution_count": null,
   "metadata": {
    "id": "LiIOJ6LocL_m"
   },
   "outputs": [],
   "source": [
    "a > b"
   ]
  },
  {
   "cell_type": "markdown",
   "metadata": {
    "id": "f3t-ackFzJsl"
   },
   "source": [
    "## C. Writing Python functions\n",
    "\n",
    "Components of a Python function are\n",
    "- name (in the header)\n",
    "- input variables (in the header)\n",
    "- definition (in the indented body)\n",
    "- *optional* output (using return command in last line of the body)\n",
    "\n",
    "Look at the following piece of Python code \n",
    "\n",
    "```\n",
    "import math\n",
    "\n",
    "def tipcalculator(bill):\n",
    "    tip = math.ceil(0.2 * bill)\n",
    "    return tip\n",
    "```\n",
    "\n",
    "#### 1. Indentify the following components of the created function:"
   ]
  },
  {
   "cell_type": "markdown",
   "metadata": {
    "id": "I9FZmzYAzJsn"
   },
   "source": [
    "function name:\n",
    "\n",
    "input variable(s):\n",
    "\n",
    "definition:\n",
    "\n",
    "output:"
   ]
  },
  {
   "cell_type": "markdown",
   "metadata": {
    "id": "i8rGivTazJso"
   },
   "source": [
    "Note the identation. Python is different from many other programming langauges in that it uses indentation instead of curly braces or parentheses to group elements of a code. In the above example, code that is part of the function definition is indented (typically 4 spaces). [More on indentation](https://www.scaler.com/topics/python/indentation-in-python/)\n",
    "\n",
    "#### 2. Execute the code to create the tipcalculator function"
   ]
  },
  {
   "cell_type": "code",
   "execution_count": null,
   "metadata": {
    "id": "B09O86TuzJso",
    "tags": []
   },
   "outputs": [],
   "source": [
    "import math\n",
    "\n",
    "def tipcalculator(bill):\n",
    "    tip = math.ceil(0.2 * bill)\n",
    "    return tip"
   ]
  },
  {
   "cell_type": "markdown",
   "metadata": {
    "id": "9jCI04_0zJsp"
   },
   "source": [
    "Suppose your restaurant bill is \\$14.95. To use the function you can type\n",
    "```\n",
    "tipcalculator(14.95)\n",
    "```\n",
    "You can also output to a new variable\n",
    "```\n",
    "myTip = tipcalculator(14.95)\n",
    "```\n",
    "To see what is contained in a variable, just type the variable name and execute\n",
    "```\n",
    "myTip\n",
    "```\n",
    "\n",
    "#### 3. Display text\n",
    "\n",
    "You can also also add a line in the function to display particular text. Try the code below. \\( [more info on string formatting](https://pyformat.info/) \\)"
   ]
  },
  {
   "cell_type": "code",
   "execution_count": null,
   "metadata": {
    "id": "ewx05fcjzJsq",
    "tags": []
   },
   "outputs": [],
   "source": [
    "def bettertipcalculator(bill):\n",
    "    tip = math.ceil(0.2 * bill)\n",
    "    print('Tip amount: ${:5.2f}'.format(tip))\n",
    "    return tip\n",
    "\n",
    "bettertipcalculator(14.95)"
   ]
  },
  {
   "cell_type": "markdown",
   "metadata": {
    "id": "0Q2eJ4mGzJsq"
   },
   "source": [
    "*4*. Suppose you want to vary the percentage of the tip given whenever you called the function. Discuss with a partner how you might do this, and write a new function below."
   ]
  },
  {
   "cell_type": "code",
   "execution_count": null,
   "metadata": {
    "id": "yOW8_G5rzJsr",
    "tags": []
   },
   "outputs": [],
   "source": [
    "#insert code here"
   ]
  }
 ],
 "metadata": {
  "colab": {
   "name": "Jupyter-Python-Tutorial-1.ipynb",
   "provenance": []
  },
  "kernelspec": {
   "display_name": "Python 3 (ipykernel)",
   "language": "python",
   "name": "python3"
  },
  "language_info": {
   "codemirror_mode": {
    "name": "ipython",
    "version": 3
   },
   "file_extension": ".py",
   "mimetype": "text/x-python",
   "name": "python",
   "nbconvert_exporter": "python",
   "pygments_lexer": "ipython3",
   "version": "3.8.9"
  }
 },
 "nbformat": 4,
 "nbformat_minor": 4
}
